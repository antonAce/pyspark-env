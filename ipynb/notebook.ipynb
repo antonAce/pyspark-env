{
 "cells": [
  {
   "cell_type": "markdown",
   "id": "cedb19a8",
   "metadata": {},
   "source": [
    "# Jupyter notebook\n",
    "\n",
    "Here I keep the list of all my Jupyter notebooks for a specific project. I primarily use notebooks to test scripts and data processing pipelines or generate EDA reports."
   ]
  }
 ],
 "metadata": {
  "kernelspec": {
   "display_name": "Python 3 (ipykernel)",
   "language": "python",
   "name": "python3"
  },
  "language_info": {
   "codemirror_mode": {
    "name": "ipython",
    "version": 3
   },
   "file_extension": ".py",
   "mimetype": "text/x-python",
   "name": "python",
   "nbconvert_exporter": "python",
   "pygments_lexer": "ipython3",
   "version": "3.8.5"
  }
 },
 "nbformat": 4,
 "nbformat_minor": 5
}
